{
 "cells": [
  {
   "cell_type": "code",
   "execution_count": null,
   "metadata": {},
   "outputs": [],
   "source": [
    "class MinimaxAgent:\n",
    "    \"\"\"\n",
    "    Minimax agent iterate though all the valid moves to find the best (highest value) move.\n",
    "    For each, it needs to evaluate all the possible following moves by the opponent\n",
    "    who tries to choose the best move which is the worst move for this agent.\n",
    "    This traversing of possible move chains will be continued until we reach the max depth\n",
    "    or there is no more move for both agents.\n",
    "    \"\"\"\n",
    "    def __init__(self, depth = 5):\n",
    "        self.depth = depth\n",
    "    \n",
    "    def minimax(self, board, color, depth):\n",
    "        if depth == 0:\n",
    "            return (self.score(), None)\n",
    "        \n",
    "        valid_moves = env.get_valid_moves(self.color)\n",
    "        \n",
    "            return (self.score(), None)\n",
    "        \n",
    "        best_score = -100000\n",
    "        best_move = None\n",
    "        \n",
    "        if len(valid_moves) > 0:\n",
    "            new_board = deepcopy(board)\n",
    "            new_board.step(action)\n",
    "\n",
    "            try_tuple = self.minimax(new_board, -color, depth-1)\n",
    "            try_score = -try_tuple[0]\n",
    "\n",
    "            if try_score > best_score:\n",
    "                best_score = try_score\n",
    "                best_move = move\n",
    "\n",
    "            return (best_score, best_move)\n",
    "    \n",
    "        else:\n",
    "            \n",
    "            return None, 0"
   ]
  }
 ],
 "metadata": {
  "kernelspec": {
   "display_name": "Python 3",
   "language": "python",
   "name": "python3"
  },
  "language_info": {
   "codemirror_mode": {
    "name": "ipython",
    "version": 3
   },
   "file_extension": ".py",
   "mimetype": "text/x-python",
   "name": "python",
   "nbconvert_exporter": "python",
   "pygments_lexer": "ipython3",
   "version": "3.8.5"
  }
 },
 "nbformat": 4,
 "nbformat_minor": 4
}
